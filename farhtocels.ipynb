{
  "nbformat": 4,
  "nbformat_minor": 0,
  "metadata": {
    "colab": {
      "provenance": []
    },
    "kernelspec": {
      "name": "python3",
      "display_name": "Python 3"
    },
    "language_info": {
      "name": "python"
    }
  },
  "cells": [
    {
      "cell_type": "code",
      "execution_count": null,
      "metadata": {
        "id": "GQv72C7r7ojP"
      },
      "outputs": [],
      "source": [
        "# Prompt user for a temperature in Fahrenheit\n",
        "fahrenheit = float(input(\"Enter temperature in Fahrenheit: \"))\n",
        "\n",
        "# Convert to Celsius using the formula\n",
        "celsius = (fahrenheit - 32) * 5.0 / 9.0\n",
        "\n",
        "# Display the result\n",
        "print(f\"{fahrenheit}°F is equal to {celsius:.2f}°C\")\n",
        "\n"
      ]
    }
  ]
}